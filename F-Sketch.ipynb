{
 "cells": [
  {
   "cell_type": "code",
   "execution_count": 11,
   "metadata": {},
   "outputs": [],
   "source": [
    "import numpy as np\n",
    "import scipy.sparse\n",
    "import math\n",
    "\n",
    "\n",
    "''' Functions isPrime and nextPrime are taken form Geeks for Geeks '''\n",
    "def isPrime(n):   \n",
    "    if(n <= 1): \n",
    "        return False\n",
    "    if(n <= 3): \n",
    "        return True \n",
    "    if(n % 2 == 0 or n % 3 == 0): \n",
    "        return False\n",
    "      \n",
    "    for i in range(5,int(math.sqrt(n) + 1), 6):  \n",
    "        if(n % i == 0 or n % (i + 2) == 0): \n",
    "            return False\n",
    "      \n",
    "    return True\n",
    "   \n",
    "def nextPrime(N): \n",
    "    if (N <= 1): \n",
    "        return 2\n",
    "  \n",
    "    prime = N \n",
    "    found = False  \n",
    "    while(not found): \n",
    "        prime = prime + 1\n",
    "  \n",
    "        if(isPrime(prime) == True): \n",
    "            found = True\n",
    "  \n",
    "    return prime \n",
    "\n",
    "\n",
    "def FSketch(X, k, p):\n",
    "    ''''Documentation of FSKetch:\n",
    "        Parameters:\n",
    "           X: is a sparse array (numpy array or can be scipy sparse matrix) of shape (n, d),\n",
    "              where n is number of samples and d is feature dimension\n",
    "           k: reduced dimension value (must be postive integer)\n",
    "            \n",
    "           p: prime number next to the maximum element in X\n",
    "        Returns:\n",
    "          scipy sparse csr_matrix of shape (n, k)\n",
    "    '''\n",
    "    X = scipy.sparse.csr_matrix(X)\n",
    "    d = X.shape[1]\n",
    "    \n",
    "    P = np.random.randint(0, p, d)\n",
    "    \n",
    "    random_map = np.array([], int)\n",
    "    M = np.arange(k)\n",
    "    for i in range(d//k):\n",
    "        np.random.shuffle(M)\n",
    "        random_map = np.concatenate((random_map, M))\n",
    "    np.random.shuffle(M)\n",
    "    random_map = np.concatenate((random_map, M[0:d%k]))\n",
    "    np.random.shuffle(random_map)\n",
    "    \n",
    "\n",
    "    Temp = scipy.sparse.csr_matrix(X.multiply(P))\n",
    "   \n",
    "    new_X = np.zeros((X.shape[0], k))\n",
    "    for i in range(k):\n",
    "        index = np.where(random_map == i)[0]\n",
    "        new_X[:,i] = Temp[:,index].sum(axis = 1).flatten() % p\n",
    "    return scipy.sparse.csr_matrix(new_X)\n",
    "\n",
    "\n",
    "def Hamming_distance(a,b):\n",
    "    'Funtion to calculate hamming distance between array a and b'\n",
    "    ham = 0\n",
    "    for i in range(a.shape[1]):\n",
    "        if a[:,i] != b[:,i]:\n",
    "            ham += 1\n",
    "    return ham\n",
    "\n",
    "def FSketch_Ham_Estimate(a, b,  d, p ):\n",
    "    ''''Documentation:\n",
    "        Parameters:\n",
    "          a: scipy sparse scr array\n",
    "          b: sipy sparse scr  array \n",
    "\n",
    "          d: actual dimesion (dimension before reduction)\n",
    "\n",
    "          p: prime number next to the maximum element in X\n",
    "        Returns:\n",
    "          integer values\n",
    "    '''\n",
    "\n",
    "    k = a.shape[1]\n",
    "    ham = Hamming_distance(a,b)\n",
    "    if ham/(k*(1 - 1/p)) < 1:\n",
    "        return round(math.log(1 - ham/(k*(1 - 1/p))) / math.log(1 - 1/k))\n",
    "    else:\n",
    "        return ham"
   ]
  },
  {
   "cell_type": "code",
   "execution_count": 21,
   "metadata": {},
   "outputs": [
    {
     "name": "stdout",
     "output_type": "stream",
     "text": [
      "Shape of actual matrix: (100, 102660)\n",
      "Shape of compressed sktech matrix: (100, 1000)\n"
     ]
    }
   ],
   "source": [
    "#Example\n",
    "X = scipy.sparse.load_npz('Sample.npz')\n",
    "print('Shape of actual matrix:', X.shape)\n",
    "\n",
    "p = nextPrime(X.max())\n",
    "\n",
    "new_X = FSketch(X, 1000, p)\n",
    "print('Shape of compressed sktech matrix:', new_X.shape)"
   ]
  },
  {
   "cell_type": "code",
   "execution_count": 22,
   "metadata": {},
   "outputs": [
    {
     "name": "stdout",
     "output_type": "stream",
     "text": [
      "Hamming distance between a and b is : 225\n",
      "Hamming estimate of a and b  using FSktech is : 226\n"
     ]
    }
   ],
   "source": [
    "'''Hamming estimate'''\n",
    "a = X[0,:]\n",
    "b = X[1,:]\n",
    "#hamming distance between a and b taken from actual matrix\n",
    "print('Hamming distance between a and b is :', Hamming_distance(a,b))\n",
    "\n",
    "a_new = new_X[0,:]\n",
    "b_new = new_X[1,:]\n",
    "# a_new and b_new corresponds to compressed sketch of a and b\n",
    "d = X.shape[1]\n",
    "print('Hamming estimate of a and b  using FSktech is :', FSketch_Ham_Estimate(a_new, b_new, d, p))"
   ]
  },
  {
   "cell_type": "code",
   "execution_count": null,
   "metadata": {},
   "outputs": [],
   "source": []
  }
 ],
 "metadata": {
  "kernelspec": {
   "display_name": "Python 3",
   "language": "python",
   "name": "python3"
  },
  "language_info": {
   "codemirror_mode": {
    "name": "ipython",
    "version": 3
   },
   "file_extension": ".py",
   "mimetype": "text/x-python",
   "name": "python",
   "nbconvert_exporter": "python",
   "pygments_lexer": "ipython3",
   "version": "3.7.3"
  }
 },
 "nbformat": 4,
 "nbformat_minor": 4
}
