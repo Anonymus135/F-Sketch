{
 "cells": [
  {
   "cell_type": "code",
   "execution_count": 1,
   "metadata": {},
   "outputs": [],
   "source": [
    "import numpy as np\n",
    "import scipy.sparse\n",
    "def SimHash(X, k):\n",
    "    '''Documentation of SimHash:\n",
    "        Parameters:\n",
    "           X: is a sparse array (numpy array or can be scipy sparse matrix) of shape (n, d),\n",
    "              where n is number of samples and d is feature dimension\n",
    "           k: reduced dimension value (must be postive integer)\n",
    "\n",
    "        Returns:\n",
    "          scipy sparse csr_matrix of shape (n, k)\n",
    "    '''\n",
    "    X = scipy.sparse.csr_matrix(X)\n",
    "    SignMatrix = np.random.choice([1, -1], (X.shape[1], k), p=[0.5,0.5])\n",
    "    new_X = scipy.sparse.csr_matrix.dot(X, SignMatrix)\n",
    "    new_X[new_X < 0] = 0\n",
    "    new_X[new_X > 0] = 1\n",
    "    return scipy.sparse.csr_matrix(new_X)\n",
    "\n",
    "def Hamming_distance(a,b):\n",
    "    'Funtion to calculate hamming distance between array a and b'\n",
    "    ham = 0\n",
    "    for i in range(a.shape[1]):\n",
    "        if a[:,i] != b[:,i]:\n",
    "            ham += 1\n",
    "    return ham"
   ]
  },
  {
   "cell_type": "code",
   "execution_count": 3,
   "metadata": {},
   "outputs": [
    {
     "name": "stdout",
     "output_type": "stream",
     "text": [
      "Shape of actual matrix: (100, 102660)\n",
      "Shape of compressed matrix: (100, 1000)\n"
     ]
    }
   ],
   "source": [
    "#Example\n",
    "X = scipy.sparse.load_npz('Sample.npz')\n",
    "print('Shape of actual matrix:', X.shape)\n",
    "\n",
    "new_X = SimHash(X, 1000)\n",
    "print('Shape of compressed matrix:', new_X.shape)"
   ]
  },
  {
   "cell_type": "code",
   "execution_count": 4,
   "metadata": {},
   "outputs": [
    {
     "name": "stdout",
     "output_type": "stream",
     "text": [
      "Hamming distance between a and b is : 225\n",
      "Hamming estimate of a and b  using SimHash sketch is : 487\n"
     ]
    }
   ],
   "source": [
    "#hamming estimate\n",
    "a = X[0,:]\n",
    "b = X[1,:]\n",
    "#hamming distance between a and b taken from actual matrix\n",
    "print('Hamming distance between a and b is :', Hamming_distance(a,b))\n",
    "\n",
    "a_new = new_X[0,:]\n",
    "b_new = new_X[1,:]\n",
    "# a_new and b_new corresponds to compressed sketch of a and b\n",
    "print('Hamming estimate of a and b  using SimHash sketch is :', Hamming_distance(a_new, b_new))\n"
   ]
  },
  {
   "cell_type": "code",
   "execution_count": null,
   "metadata": {},
   "outputs": [],
   "source": []
  }
 ],
 "metadata": {
  "kernelspec": {
   "display_name": "Python 3",
   "language": "python",
   "name": "python3"
  },
  "language_info": {
   "codemirror_mode": {
    "name": "ipython",
    "version": 3
   },
   "file_extension": ".py",
   "mimetype": "text/x-python",
   "name": "python",
   "nbconvert_exporter": "python",
   "pygments_lexer": "ipython3",
   "version": "3.7.3"
  }
 },
 "nbformat": 4,
 "nbformat_minor": 4
}
